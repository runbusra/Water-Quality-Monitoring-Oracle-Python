{
 "cells": [
  {
   "cell_type": "markdown",
   "id": "a90559de",
   "metadata": {},
   "source": [
    "# Connecting to Oracle"
   ]
  },
  {
   "cell_type": "markdown",
   "id": "f317906c",
   "metadata": {},
   "source": [
    "<font size=\"4\">Installing the cx_Oracle package</font>"
   ]
  },
  {
   "cell_type": "code",
   "execution_count": 3,
   "id": "9c31fff6",
   "metadata": {
    "scrolled": false
   },
   "outputs": [
    {
     "name": "stdout",
     "output_type": "stream",
     "text": [
      "Requirement already satisfied: cx_Oracle in c:\\institutions\\gre\\apps\\anaconda3-2021.05\\lib\\site-packages (8.3.0)\n"
     ]
    }
   ],
   "source": [
    "!pip install cx_Oracle"
   ]
  },
  {
   "cell_type": "markdown",
   "id": "aa869cd5",
   "metadata": {},
   "source": [
    "<font size=\"4\">Importing the libraries and setting the Oracle Client address</font>"
   ]
  },
  {
   "cell_type": "code",
   "execution_count": 4,
   "id": "3e4377bb",
   "metadata": {},
   "outputs": [
    {
     "ename": "ProgrammingError",
     "evalue": "Oracle Client library has already been initialized",
     "output_type": "error",
     "traceback": [
      "\u001b[1;31m---------------------------------------------------------------------------\u001b[0m",
      "\u001b[1;31mProgrammingError\u001b[0m                          Traceback (most recent call last)",
      "\u001b[1;32m<ipython-input-4-f3777555e18c>\u001b[0m in \u001b[0;36m<module>\u001b[1;34m\u001b[0m\n\u001b[0;32m      2\u001b[0m \u001b[1;32mimport\u001b[0m \u001b[0mos\u001b[0m\u001b[1;33m\u001b[0m\u001b[1;33m\u001b[0m\u001b[0m\n\u001b[0;32m      3\u001b[0m \u001b[0mdirectory_path\u001b[0m \u001b[1;33m=\u001b[0m \u001b[0mos\u001b[0m\u001b[1;33m.\u001b[0m\u001b[0mgetcwd\u001b[0m\u001b[1;33m(\u001b[0m\u001b[1;33m)\u001b[0m \u001b[1;33m+\u001b[0m \u001b[1;34m\"\\instantclient-basic-windows.x64-21.3.0.0.0\\instantclient_21_3\"\u001b[0m\u001b[1;33m\u001b[0m\u001b[1;33m\u001b[0m\u001b[0m\n\u001b[1;32m----> 4\u001b[1;33m \u001b[0mcx_Oracle\u001b[0m\u001b[1;33m.\u001b[0m\u001b[0minit_oracle_client\u001b[0m\u001b[1;33m(\u001b[0m\u001b[0mlib_dir\u001b[0m\u001b[1;33m=\u001b[0m \u001b[0mdirectory_path\u001b[0m\u001b[1;33m)\u001b[0m\u001b[1;33m\u001b[0m\u001b[1;33m\u001b[0m\u001b[0m\n\u001b[0m",
      "\u001b[1;31mProgrammingError\u001b[0m: Oracle Client library has already been initialized"
     ]
    }
   ],
   "source": [
    "import cx_Oracle\n",
    "import os\n",
    "directory_path = os.getcwd() + \"\\instantclient-basic-windows.x64-21.3.0.0.0\\instantclient_21_3\" \n",
    "cx_Oracle.init_oracle_client(lib_dir= directory_path)"
   ]
  },
  {
   "cell_type": "markdown",
   "id": "1b4a7ffb",
   "metadata": {},
   "source": [
    "<font size=\"4\">Creating a connection to Oracle</font>"
   ]
  },
  {
   "cell_type": "code",
   "execution_count": 5,
   "id": "b62ecc0d",
   "metadata": {},
   "outputs": [],
   "source": [
    "my_username = \"by1855j\"\n",
    "my_password = \"by1855j\"\n",
    "connection = cx_Oracle.connect(user=my_username, password=my_password, dsn=\"OBIWAN\")"
   ]
  },
  {
   "cell_type": "markdown",
   "id": "3a58431d",
   "metadata": {},
   "source": [
    "<font size=\"4\">Establishing the connection</font>"
   ]
  },
  {
   "cell_type": "code",
   "execution_count": 11,
   "id": "370888f2",
   "metadata": {},
   "outputs": [
    {
     "name": "stdout",
     "output_type": "stream",
     "text": [
      "I got 1525 lines \n"
     ]
    }
   ],
   "source": [
    "from pandas import DataFrame\n",
    "with connection.cursor() as cursor:\n",
    "    cursor.execute(\"select WSENSOR_ID,LOCATION_ID,TIME_ID,Result from fact_table where WSENSOR_ID=111 \")\n",
    "    df = DataFrame(cursor.fetchall())\n",
    "    df.columns = [x[0] for x in cursor.description]\n",
    "    print(\"I got %d lines \" % len(df))"
   ]
  },
  {
   "cell_type": "code",
   "execution_count": 12,
   "id": "5f1ba6bc",
   "metadata": {},
   "outputs": [
    {
     "data": {
      "text/html": [
       "<div>\n",
       "<style scoped>\n",
       "    .dataframe tbody tr th:only-of-type {\n",
       "        vertical-align: middle;\n",
       "    }\n",
       "\n",
       "    .dataframe tbody tr th {\n",
       "        vertical-align: top;\n",
       "    }\n",
       "\n",
       "    .dataframe thead th {\n",
       "        text-align: right;\n",
       "    }\n",
       "</style>\n",
       "<table border=\"1\" class=\"dataframe\">\n",
       "  <thead>\n",
       "    <tr style=\"text-align: right;\">\n",
       "      <th></th>\n",
       "      <th>WSENSOR_ID</th>\n",
       "      <th>LOCATION_ID</th>\n",
       "      <th>TIME_ID</th>\n",
       "      <th>RESULT</th>\n",
       "    </tr>\n",
       "  </thead>\n",
       "  <tbody>\n",
       "    <tr>\n",
       "      <th>0</th>\n",
       "      <td>111</td>\n",
       "      <td>AN-011396</td>\n",
       "      <td>2000-01-04T14:10:00</td>\n",
       "      <td>10.400</td>\n",
       "    </tr>\n",
       "    <tr>\n",
       "      <th>1</th>\n",
       "      <td>111</td>\n",
       "      <td>AN-011396</td>\n",
       "      <td>2000-06-28T13:20:00</td>\n",
       "      <td>6.220</td>\n",
       "    </tr>\n",
       "    <tr>\n",
       "      <th>2</th>\n",
       "      <td>111</td>\n",
       "      <td>AN-011396</td>\n",
       "      <td>2000-11-15T14:50:00</td>\n",
       "      <td>3.580</td>\n",
       "    </tr>\n",
       "    <tr>\n",
       "      <th>3</th>\n",
       "      <td>111</td>\n",
       "      <td>AN-011396</td>\n",
       "      <td>2001-04-11T11:35:00</td>\n",
       "      <td>6.240</td>\n",
       "    </tr>\n",
       "    <tr>\n",
       "      <th>4</th>\n",
       "      <td>111</td>\n",
       "      <td>AN-01M02</td>\n",
       "      <td>2013-02-11T13:39:00</td>\n",
       "      <td>0.093</td>\n",
       "    </tr>\n",
       "    <tr>\n",
       "      <th>...</th>\n",
       "      <td>...</td>\n",
       "      <td>...</td>\n",
       "      <td>...</td>\n",
       "      <td>...</td>\n",
       "    </tr>\n",
       "    <tr>\n",
       "      <th>1520</th>\n",
       "      <td>111</td>\n",
       "      <td>NE-45401488</td>\n",
       "      <td>2014-10-06T08:32:00</td>\n",
       "      <td>0.030</td>\n",
       "    </tr>\n",
       "    <tr>\n",
       "      <th>1521</th>\n",
       "      <td>111</td>\n",
       "      <td>NE-45401488</td>\n",
       "      <td>2014-11-03T12:33:00</td>\n",
       "      <td>0.040</td>\n",
       "    </tr>\n",
       "    <tr>\n",
       "      <th>1522</th>\n",
       "      <td>111</td>\n",
       "      <td>NE-45401488</td>\n",
       "      <td>2014-11-27T10:08:00</td>\n",
       "      <td>0.099</td>\n",
       "    </tr>\n",
       "    <tr>\n",
       "      <th>1523</th>\n",
       "      <td>111</td>\n",
       "      <td>NE-454F1115</td>\n",
       "      <td>2014-06-20T10:29:00</td>\n",
       "      <td>0.030</td>\n",
       "    </tr>\n",
       "    <tr>\n",
       "      <th>1524</th>\n",
       "      <td>111</td>\n",
       "      <td>NE-454F1115</td>\n",
       "      <td>2014-09-15T10:06:00</td>\n",
       "      <td>0.030</td>\n",
       "    </tr>\n",
       "  </tbody>\n",
       "</table>\n",
       "<p>1525 rows × 4 columns</p>\n",
       "</div>"
      ],
      "text/plain": [
       "      WSENSOR_ID  LOCATION_ID              TIME_ID  RESULT\n",
       "0            111    AN-011396  2000-01-04T14:10:00  10.400\n",
       "1            111    AN-011396  2000-06-28T13:20:00   6.220\n",
       "2            111    AN-011396  2000-11-15T14:50:00   3.580\n",
       "3            111    AN-011396  2001-04-11T11:35:00   6.240\n",
       "4            111     AN-01M02  2013-02-11T13:39:00   0.093\n",
       "...          ...          ...                  ...     ...\n",
       "1520         111  NE-45401488  2014-10-06T08:32:00   0.030\n",
       "1521         111  NE-45401488  2014-11-03T12:33:00   0.040\n",
       "1522         111  NE-45401488  2014-11-27T10:08:00   0.099\n",
       "1523         111  NE-454F1115  2014-06-20T10:29:00   0.030\n",
       "1524         111  NE-454F1115  2014-09-15T10:06:00   0.030\n",
       "\n",
       "[1525 rows x 4 columns]"
      ]
     },
     "execution_count": 12,
     "metadata": {},
     "output_type": "execute_result"
    }
   ],
   "source": [
    "df"
   ]
  },
  {
   "cell_type": "markdown",
   "id": "ec999ac4",
   "metadata": {},
   "source": [
    "<font size=\"4\">Importing the libraries</font>"
   ]
  },
  {
   "cell_type": "code",
   "execution_count": 13,
   "id": "0dca79c6",
   "metadata": {},
   "outputs": [],
   "source": [
    "#importing preprocessing from sklearn\n",
    "from sklearn import preprocessing"
   ]
  },
  {
   "cell_type": "code",
   "execution_count": 14,
   "id": "1e1ee394",
   "metadata": {},
   "outputs": [],
   "source": [
    "#Label Encoding\n",
    "#converting each value in a column to a number\n",
    "for column in df.columns:\n",
    "        le = preprocessing.LabelEncoder()\n",
    "        df[column] = le.fit_transform(df[column])"
   ]
  },
  {
   "cell_type": "code",
   "execution_count": 15,
   "id": "a6f7d36a",
   "metadata": {},
   "outputs": [
    {
     "data": {
      "text/plain": [
       "(1525, 4)"
      ]
     },
     "execution_count": 15,
     "metadata": {},
     "output_type": "execute_result"
    }
   ],
   "source": [
    "#checking the shape\n",
    "df.shape"
   ]
  },
  {
   "cell_type": "code",
   "execution_count": 16,
   "id": "c94a1146",
   "metadata": {},
   "outputs": [
    {
     "data": {
      "text/html": [
       "<div>\n",
       "<style scoped>\n",
       "    .dataframe tbody tr th:only-of-type {\n",
       "        vertical-align: middle;\n",
       "    }\n",
       "\n",
       "    .dataframe tbody tr th {\n",
       "        vertical-align: top;\n",
       "    }\n",
       "\n",
       "    .dataframe thead th {\n",
       "        text-align: right;\n",
       "    }\n",
       "</style>\n",
       "<table border=\"1\" class=\"dataframe\">\n",
       "  <thead>\n",
       "    <tr style=\"text-align: right;\">\n",
       "      <th></th>\n",
       "      <th>WSENSOR_ID</th>\n",
       "      <th>LOCATION_ID</th>\n",
       "      <th>TIME_ID</th>\n",
       "      <th>RESULT</th>\n",
       "    </tr>\n",
       "  </thead>\n",
       "  <tbody>\n",
       "    <tr>\n",
       "      <th>0</th>\n",
       "      <td>0</td>\n",
       "      <td>0</td>\n",
       "      <td>1</td>\n",
       "      <td>342</td>\n",
       "    </tr>\n",
       "    <tr>\n",
       "      <th>1</th>\n",
       "      <td>0</td>\n",
       "      <td>0</td>\n",
       "      <td>30</td>\n",
       "      <td>325</td>\n",
       "    </tr>\n",
       "    <tr>\n",
       "      <th>2</th>\n",
       "      <td>0</td>\n",
       "      <td>0</td>\n",
       "      <td>54</td>\n",
       "      <td>304</td>\n",
       "    </tr>\n",
       "    <tr>\n",
       "      <th>3</th>\n",
       "      <td>0</td>\n",
       "      <td>0</td>\n",
       "      <td>81</td>\n",
       "      <td>326</td>\n",
       "    </tr>\n",
       "    <tr>\n",
       "      <th>4</th>\n",
       "      <td>0</td>\n",
       "      <td>6</td>\n",
       "      <td>1057</td>\n",
       "      <td>65</td>\n",
       "    </tr>\n",
       "    <tr>\n",
       "      <th>...</th>\n",
       "      <td>...</td>\n",
       "      <td>...</td>\n",
       "      <td>...</td>\n",
       "      <td>...</td>\n",
       "    </tr>\n",
       "    <tr>\n",
       "      <th>1520</th>\n",
       "      <td>0</td>\n",
       "      <td>77</td>\n",
       "      <td>1210</td>\n",
       "      <td>2</td>\n",
       "    </tr>\n",
       "    <tr>\n",
       "      <th>1521</th>\n",
       "      <td>0</td>\n",
       "      <td>77</td>\n",
       "      <td>1216</td>\n",
       "      <td>12</td>\n",
       "    </tr>\n",
       "    <tr>\n",
       "      <th>1522</th>\n",
       "      <td>0</td>\n",
       "      <td>77</td>\n",
       "      <td>1224</td>\n",
       "      <td>70</td>\n",
       "    </tr>\n",
       "    <tr>\n",
       "      <th>1523</th>\n",
       "      <td>0</td>\n",
       "      <td>78</td>\n",
       "      <td>1188</td>\n",
       "      <td>2</td>\n",
       "    </tr>\n",
       "    <tr>\n",
       "      <th>1524</th>\n",
       "      <td>0</td>\n",
       "      <td>78</td>\n",
       "      <td>1209</td>\n",
       "      <td>2</td>\n",
       "    </tr>\n",
       "  </tbody>\n",
       "</table>\n",
       "<p>1525 rows × 4 columns</p>\n",
       "</div>"
      ],
      "text/plain": [
       "      WSENSOR_ID  LOCATION_ID  TIME_ID  RESULT\n",
       "0              0            0        1     342\n",
       "1              0            0       30     325\n",
       "2              0            0       54     304\n",
       "3              0            0       81     326\n",
       "4              0            6     1057      65\n",
       "...          ...          ...      ...     ...\n",
       "1520           0           77     1210       2\n",
       "1521           0           77     1216      12\n",
       "1522           0           77     1224      70\n",
       "1523           0           78     1188       2\n",
       "1524           0           78     1209       2\n",
       "\n",
       "[1525 rows x 4 columns]"
      ]
     },
     "execution_count": 16,
     "metadata": {},
     "output_type": "execute_result"
    }
   ],
   "source": [
    "df"
   ]
  },
  {
   "cell_type": "markdown",
   "id": "87d78c3d",
   "metadata": {},
   "source": [
    "<font size=\"4\">Splitting the data</font>\n"
   ]
  },
  {
   "cell_type": "code",
   "execution_count": 17,
   "id": "080f147a",
   "metadata": {},
   "outputs": [],
   "source": [
    "#independent variable array\n",
    "X = df.iloc[:,1:3].values\n",
    "#dependent variable vector\n",
    "y = df.iloc[:,3].values"
   ]
  },
  {
   "cell_type": "code",
   "execution_count": 18,
   "id": "29e448a9",
   "metadata": {},
   "outputs": [
    {
     "data": {
      "text/plain": [
       "array([[   0,    1],\n",
       "       [   0,   30],\n",
       "       [   0,   54],\n",
       "       ...,\n",
       "       [  77, 1224],\n",
       "       [  78, 1188],\n",
       "       [  78, 1209]])"
      ]
     },
     "execution_count": 18,
     "metadata": {},
     "output_type": "execute_result"
    }
   ],
   "source": [
    "X"
   ]
  },
  {
   "cell_type": "code",
   "execution_count": 19,
   "id": "a1f3492a",
   "metadata": {},
   "outputs": [
    {
     "data": {
      "text/plain": [
       "array([342, 325, 304, ...,  70,   2,   2], dtype=int64)"
      ]
     },
     "execution_count": 19,
     "metadata": {},
     "output_type": "execute_result"
    }
   ],
   "source": [
    "y"
   ]
  },
  {
   "cell_type": "code",
   "execution_count": 65,
   "id": "368ca5c8",
   "metadata": {},
   "outputs": [],
   "source": [
    "from sklearn.model_selection import train_test_split\n",
    "X_train, X_test, y_train, y_test = train_test_split(X,y,test_size=0.3, random_state=13)"
   ]
  },
  {
   "cell_type": "markdown",
   "id": "9de386b8",
   "metadata": {},
   "source": [
    "<font size=\"4\">Fitting KNN Algorithm model into the training set</font>\n"
   ]
  },
  {
   "cell_type": "code",
   "execution_count": 58,
   "id": "a2a6364d",
   "metadata": {},
   "outputs": [],
   "source": [
    "from sklearn.neighbors import KNeighborsClassifier\n",
    "knn = KNeighborsClassifier(n_neighbors=37)\n",
    "knn.fit(X_train, y_train)\n",
    "y_pred = knn.predict(X_test)"
   ]
  },
  {
   "cell_type": "code",
   "execution_count": 59,
   "id": "fcf96aa6",
   "metadata": {},
   "outputs": [
    {
     "name": "stdout",
     "output_type": "stream",
     "text": [
      "34.72 %\n"
     ]
    }
   ],
   "source": [
    "#accuracy\n",
    "print(round(knn.score(X_test, y_test),4)*100,'%')"
   ]
  },
  {
   "cell_type": "code",
   "execution_count": 66,
   "id": "0e8ee2b5",
   "metadata": {},
   "outputs": [
    {
     "name": "stderr",
     "output_type": "stream",
     "text": [
      "C:\\Institutions\\Gre\\Apps\\Anaconda3-2021.05\\lib\\site-packages\\sklearn\\model_selection\\_split.py:666: UserWarning: The least populated class in y has only 1 members, which is less than n_splits=23.\n",
      "  warnings.warn((\"The least populated class in y has only %d\"\n",
      "C:\\Institutions\\Gre\\Apps\\Anaconda3-2021.05\\lib\\site-packages\\sklearn\\model_selection\\_split.py:666: UserWarning: The least populated class in y has only 1 members, which is less than n_splits=23.\n",
      "  warnings.warn((\"The least populated class in y has only %d\"\n",
      "C:\\Institutions\\Gre\\Apps\\Anaconda3-2021.05\\lib\\site-packages\\sklearn\\model_selection\\_split.py:666: UserWarning: The least populated class in y has only 1 members, which is less than n_splits=23.\n",
      "  warnings.warn((\"The least populated class in y has only %d\"\n",
      "C:\\Institutions\\Gre\\Apps\\Anaconda3-2021.05\\lib\\site-packages\\sklearn\\model_selection\\_split.py:666: UserWarning: The least populated class in y has only 1 members, which is less than n_splits=23.\n",
      "  warnings.warn((\"The least populated class in y has only %d\"\n",
      "C:\\Institutions\\Gre\\Apps\\Anaconda3-2021.05\\lib\\site-packages\\sklearn\\model_selection\\_split.py:666: UserWarning: The least populated class in y has only 1 members, which is less than n_splits=23.\n",
      "  warnings.warn((\"The least populated class in y has only %d\"\n",
      "C:\\Institutions\\Gre\\Apps\\Anaconda3-2021.05\\lib\\site-packages\\sklearn\\model_selection\\_split.py:666: UserWarning: The least populated class in y has only 1 members, which is less than n_splits=23.\n",
      "  warnings.warn((\"The least populated class in y has only %d\"\n",
      "C:\\Institutions\\Gre\\Apps\\Anaconda3-2021.05\\lib\\site-packages\\sklearn\\model_selection\\_split.py:666: UserWarning: The least populated class in y has only 1 members, which is less than n_splits=23.\n",
      "  warnings.warn((\"The least populated class in y has only %d\"\n",
      "C:\\Institutions\\Gre\\Apps\\Anaconda3-2021.05\\lib\\site-packages\\sklearn\\model_selection\\_split.py:666: UserWarning: The least populated class in y has only 1 members, which is less than n_splits=23.\n",
      "  warnings.warn((\"The least populated class in y has only %d\"\n",
      "C:\\Institutions\\Gre\\Apps\\Anaconda3-2021.05\\lib\\site-packages\\sklearn\\model_selection\\_split.py:666: UserWarning: The least populated class in y has only 1 members, which is less than n_splits=23.\n",
      "  warnings.warn((\"The least populated class in y has only %d\"\n",
      "C:\\Institutions\\Gre\\Apps\\Anaconda3-2021.05\\lib\\site-packages\\sklearn\\model_selection\\_split.py:666: UserWarning: The least populated class in y has only 1 members, which is less than n_splits=23.\n",
      "  warnings.warn((\"The least populated class in y has only %d\"\n",
      "C:\\Institutions\\Gre\\Apps\\Anaconda3-2021.05\\lib\\site-packages\\sklearn\\model_selection\\_split.py:666: UserWarning: The least populated class in y has only 1 members, which is less than n_splits=23.\n",
      "  warnings.warn((\"The least populated class in y has only %d\"\n",
      "C:\\Institutions\\Gre\\Apps\\Anaconda3-2021.05\\lib\\site-packages\\sklearn\\model_selection\\_split.py:666: UserWarning: The least populated class in y has only 1 members, which is less than n_splits=23.\n",
      "  warnings.warn((\"The least populated class in y has only %d\"\n",
      "C:\\Institutions\\Gre\\Apps\\Anaconda3-2021.05\\lib\\site-packages\\sklearn\\model_selection\\_split.py:666: UserWarning: The least populated class in y has only 1 members, which is less than n_splits=23.\n",
      "  warnings.warn((\"The least populated class in y has only %d\"\n"
     ]
    },
    {
     "name": "stdout",
     "output_type": "stream",
     "text": [
      "[0.28358209 0.32835821 0.32835821 0.32835821 0.32835821 0.31343284\n",
      " 0.32835821 0.27272727 0.28787879 0.33333333 0.33333333 0.33333333\n",
      " 0.31818182 0.33333333 0.33333333 0.34848485 0.34848485 0.34848485\n",
      " 0.34848485 0.34848485 0.34848485 0.3030303  0.27272727]\n"
     ]
    },
    {
     "name": "stderr",
     "output_type": "stream",
     "text": [
      "C:\\Institutions\\Gre\\Apps\\Anaconda3-2021.05\\lib\\site-packages\\sklearn\\model_selection\\_split.py:666: UserWarning: The least populated class in y has only 1 members, which is less than n_splits=23.\n",
      "  warnings.warn((\"The least populated class in y has only %d\"\n"
     ]
    }
   ],
   "source": [
    "#Cross Validation\n",
    "from sklearn.model_selection import cross_val_score\n",
    "neighbors=[]\n",
    "cv_scores=[]\n",
    "#performing 23-fold cross validation with K=13 for KNN\n",
    "for k in range(1,53,4):\n",
    "    neighbors.append(k)\n",
    "    knn1=KNeighborsClassifier(n_neighbors = k)\n",
    "    scores = cross_val_score(\n",
    "       knn1,X_train,y_train,cv=23,scoring='accuracy')\n",
    "    cv_scores.append(scores.mean())\n",
    "scores=cross_val_score(knn1,X,y,cv=23,scoring='accuracy')\n",
    "print(scores)\n"
   ]
  },
  {
   "cell_type": "code",
   "execution_count": 62,
   "id": "4953e389",
   "metadata": {},
   "outputs": [],
   "source": [
    "import matplotlib.pyplot as plt"
   ]
  },
  {
   "cell_type": "code",
   "execution_count": 68,
   "id": "f80fa3bb",
   "metadata": {},
   "outputs": [
    {
     "name": "stdout",
     "output_type": "stream",
     "text": [
      "The optimal number of K neighbours = 37 \n"
     ]
    },
    {
     "data": {
      "image/png": "[encoded data removed]",
      "text/plain": [
       "<Figure size 720x432 with 1 Axes>"
      ]
     },
     "metadata": {
      "needs_background": "light"
     },
     "output_type": "display_data"
    }
   ],
   "source": [
    "#misclassification error\n",
    "mse=[1-x for x in cv_scores]\n",
    "#determining the best k value\n",
    "optimal_k=neighbors[mse.index(min(mse))]\n",
    "print(\"The optimal number of K neighbours = %d \" %optimal_k)\n",
    "#plotting misclassification error\n",
    "plt.figure(figsize=(10,6))\n",
    "plt.plot(neighbors,mse)\n",
    "plt.xlabel(\"Number of K neighbors\")\n",
    "plt.ylabel(\"misclassification error\")\n",
    "plt.show()"
   ]
  },
  {
   "cell_type": "code",
   "execution_count": 64,
   "id": "bb9e9fe5",
   "metadata": {},
   "outputs": [
    {
     "name": "stdout",
     "output_type": "stream",
     "text": [
      "Classification Report : \n",
      "\n",
      "              precision    recall  f1-score   support\n",
      "\n",
      "           1       0.00      0.00      0.00         1\n",
      "           2       0.35      0.99      0.52       158\n",
      "           3       0.00      0.00      0.00         5\n",
      "           4       0.00      0.00      0.00         7\n",
      "           5       0.00      0.00      0.00         5\n",
      "           6       0.00      0.00      0.00         4\n",
      "           7       0.00      0.00      0.00         3\n",
      "           8       0.00      0.00      0.00         8\n",
      "           9       0.00      0.00      0.00         7\n",
      "          10       0.00      0.00      0.00         6\n",
      "          11       0.00      0.00      0.00         7\n",
      "          12       0.00      0.00      0.00         6\n",
      "          13       0.00      0.00      0.00         1\n",
      "          14       0.00      0.00      0.00         5\n",
      "          15       0.00      0.00      0.00         4\n",
      "          16       0.00      0.00      0.00         5\n",
      "          17       0.00      0.00      0.00         2\n",
      "          18       0.00      0.00      0.00         4\n",
      "          19       0.00      0.00      0.00         4\n",
      "          20       0.00      0.00      0.00         4\n",
      "          21       0.00      0.00      0.00         3\n",
      "          22       0.00      0.00      0.00         1\n",
      "          23       0.00      0.00      0.00         3\n",
      "          24       0.00      0.00      0.00         4\n",
      "          25       0.00      0.00      0.00         2\n",
      "          26       0.00      0.00      0.00         3\n",
      "          27       0.00      0.00      0.00         3\n",
      "          28       0.00      0.00      0.00         2\n",
      "          29       0.00      0.00      0.00         3\n",
      "          30       0.00      0.00      0.00         1\n",
      "          31       0.00      0.00      0.00         2\n",
      "          33       0.00      0.00      0.00         2\n",
      "          34       0.00      0.00      0.00         1\n",
      "          35       0.00      0.00      0.00         2\n",
      "          36       0.00      0.00      0.00         4\n",
      "          37       0.00      0.00      0.00         4\n",
      "          38       0.00      0.00      0.00         3\n",
      "          39       0.00      0.00      0.00         3\n",
      "          40       0.00      0.00      0.00         2\n",
      "          41       0.00      0.00      0.00         1\n",
      "          42       0.00      0.00      0.00         2\n",
      "          45       0.00      0.00      0.00         2\n",
      "          46       0.00      0.00      0.00         2\n",
      "          47       0.00      0.00      0.00         3\n",
      "          49       0.00      0.00      0.00         1\n",
      "          50       0.00      0.00      0.00         2\n",
      "          51       0.00      0.00      0.00         2\n",
      "          52       0.00      0.00      0.00         4\n",
      "          55       0.00      0.00      0.00         1\n",
      "          56       0.00      0.00      0.00         1\n",
      "          57       0.00      0.00      0.00         1\n",
      "          59       0.00      0.00      0.00         1\n",
      "          60       0.00      0.00      0.00         1\n",
      "          65       0.00      0.00      0.00         1\n",
      "          68       0.00      0.00      0.00         1\n",
      "          69       0.00      0.00      0.00         1\n",
      "          73       0.00      0.00      0.00         1\n",
      "          74       0.00      0.00      0.00         1\n",
      "          75       0.00      0.00      0.00         1\n",
      "          80       0.00      0.00      0.00         1\n",
      "          81       0.00      0.00      0.00         1\n",
      "          82       0.00      0.00      0.00         1\n",
      "          85       0.00      0.00      0.00         1\n",
      "          86       0.00      0.00      0.00         1\n",
      "          88       0.00      0.00      0.00         1\n",
      "          89       0.00      0.00      0.00         1\n",
      "          90       0.00      0.00      0.00         1\n",
      "          93       0.00      0.00      0.00         1\n",
      "          96       0.00      0.00      0.00         2\n",
      "         101       0.00      0.00      0.00         1\n",
      "         108       0.00      0.00      0.00         1\n",
      "         109       0.00      0.00      0.00         1\n",
      "         111       0.00      0.00      0.00         1\n",
      "         113       0.00      0.00      0.00         1\n",
      "         115       0.00      0.00      0.00         1\n",
      "         120       0.00      0.00      0.00         1\n",
      "         121       0.00      0.00      0.00         1\n",
      "         123       0.00      0.00      0.00         2\n",
      "         131       0.00      0.00      0.00         1\n",
      "         132       0.00      0.00      0.00         1\n",
      "         135       0.00      0.00      0.00         1\n",
      "         139       0.00      0.00      0.00         1\n",
      "         144       0.00      0.00      0.00         1\n",
      "         147       0.00      0.00      0.00         1\n",
      "         152       0.00      0.00      0.00         2\n",
      "         153       0.00      0.00      0.00         1\n",
      "         160       0.00      0.00      0.00         1\n",
      "         161       0.00      0.00      0.00         1\n",
      "         163       0.00      0.00      0.00         1\n",
      "         165       0.00      0.00      0.00         1\n",
      "         166       0.00      0.00      0.00         1\n",
      "         168       0.00      0.00      0.00         1\n",
      "         170       0.00      0.00      0.00         1\n",
      "         171       0.00      0.00      0.00         1\n",
      "         175       0.00      0.00      0.00         1\n",
      "         180       0.13      0.06      0.08        33\n",
      "         181       0.00      0.00      0.00         1\n",
      "         182       0.00      0.00      0.00         1\n",
      "         190       0.00      0.00      0.00         1\n",
      "         193       0.00      0.00      0.00         1\n",
      "         206       0.00      0.00      0.00         1\n",
      "         207       0.00      0.00      0.00         1\n",
      "         211       0.00      0.00      0.00         1\n",
      "         218       0.00      0.00      0.00         1\n",
      "         224       0.00      0.00      0.00         1\n",
      "         227       0.00      0.00      0.00         1\n",
      "         228       0.00      0.00      0.00         1\n",
      "         230       0.00      0.00      0.00         1\n",
      "         232       0.00      0.00      0.00         1\n",
      "         233       0.00      0.00      0.00         1\n",
      "         236       0.00      0.00      0.00         1\n",
      "         237       0.00      0.00      0.00         1\n",
      "         241       0.00      0.00      0.00         1\n",
      "         242       0.00      0.00      0.00         1\n",
      "         245       0.00      0.00      0.00         1\n",
      "         246       0.00      0.00      0.00         1\n",
      "         248       0.00      0.00      0.00         1\n",
      "         253       0.00      0.00      0.00         1\n",
      "         258       0.00      0.00      0.00         1\n",
      "         259       0.00      0.00      0.00         1\n",
      "         263       0.00      0.00      0.00         1\n",
      "         267       0.00      0.00      0.00         1\n",
      "         268       0.00      0.00      0.00         1\n",
      "         271       0.00      0.00      0.00         1\n",
      "         275       0.00      0.00      0.00         1\n",
      "         280       0.00      0.00      0.00         1\n",
      "         285       0.00      0.00      0.00         1\n",
      "         287       0.00      0.00      0.00         1\n",
      "         291       0.00      0.00      0.00         1\n",
      "         292       0.00      0.00      0.00         1\n",
      "         294       0.00      0.00      0.00         1\n",
      "         297       0.00      0.00      0.00         1\n",
      "         298       0.00      0.00      0.00         1\n",
      "         300       0.00      0.00      0.00         1\n",
      "         301       0.00      0.00      0.00         1\n",
      "         307       0.00      0.00      0.00         1\n",
      "         310       0.00      0.00      0.00         1\n",
      "         315       0.00      0.00      0.00         1\n",
      "         316       0.00      0.00      0.00         1\n",
      "         321       0.00      0.00      0.00         1\n",
      "         322       0.00      0.00      0.00         1\n",
      "         326       0.00      0.00      0.00         1\n",
      "         327       0.00      0.00      0.00         1\n",
      "         331       0.00      0.00      0.00         1\n",
      "         334       0.00      0.00      0.00         1\n",
      "         341       0.00      0.00      0.00         1\n",
      "         342       0.00      0.00      0.00         1\n",
      "         345       0.00      0.00      0.00         1\n",
      "         349       0.00      0.00      0.00         1\n",
      "         352       0.00      0.00      0.00         1\n",
      "         359       0.00      0.00      0.00         1\n",
      "         360       0.00      0.00      0.00         1\n",
      "         363       0.00      0.00      0.00         1\n",
      "         370       0.00      0.00      0.00         1\n",
      "         372       0.00      0.00      0.00         1\n",
      "         378       0.00      0.00      0.00         1\n",
      "         379       0.00      0.00      0.00         1\n",
      "         381       0.00      0.00      0.00         1\n",
      "\n",
      "    accuracy                           0.35       458\n",
      "   macro avg       0.00      0.01      0.00       458\n",
      "weighted avg       0.13      0.35      0.19       458\n",
      "\n"
     ]
    },
    {
     "name": "stderr",
     "output_type": "stream",
     "text": [
      "C:\\Institutions\\Gre\\Apps\\Anaconda3-2021.05\\lib\\site-packages\\sklearn\\metrics\\_classification.py:1245: UndefinedMetricWarning: Precision and F-score are ill-defined and being set to 0.0 in labels with no predicted samples. Use `zero_division` parameter to control this behavior.\n",
      "  _warn_prf(average, modifier, msg_start, len(result))\n",
      "C:\\Institutions\\Gre\\Apps\\Anaconda3-2021.05\\lib\\site-packages\\sklearn\\metrics\\_classification.py:1245: UndefinedMetricWarning: Precision and F-score are ill-defined and being set to 0.0 in labels with no predicted samples. Use `zero_division` parameter to control this behavior.\n",
      "  _warn_prf(average, modifier, msg_start, len(result))\n",
      "C:\\Institutions\\Gre\\Apps\\Anaconda3-2021.05\\lib\\site-packages\\sklearn\\metrics\\_classification.py:1245: UndefinedMetricWarning: Precision and F-score are ill-defined and being set to 0.0 in labels with no predicted samples. Use `zero_division` parameter to control this behavior.\n",
      "  _warn_prf(average, modifier, msg_start, len(result))\n"
     ]
    }
   ],
   "source": [
    "#Classification Report\n",
    "from sklearn.metrics import classification_report\n",
    "print(\"Classification Report : \\n\")\n",
    "print(classification_report(y_test,y_pred))\n"
   ]
  }
 ],
 "metadata": {
  "kernelspec": {
   "display_name": "Python 3",
   "language": "python",
   "name": "python3"
  },
  "language_info": {
   "codemirror_mode": {
    "name": "ipython",
    "version": 3
   },
   "file_extension": ".py",
   "mimetype": "text/x-python",
   "name": "python",
   "nbconvert_exporter": "python",
   "pygments_lexer": "ipython3",
   "version": "3.8.8"
  }
 },
 "nbformat": 4,
 "nbformat_minor": 5
}
